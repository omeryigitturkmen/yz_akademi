{
  "nbformat": 4,
  "nbformat_minor": 0,
  "metadata": {
    "colab": {
      "name": "Untitled0.ipynb",
      "provenance": []
    },
    "kernelspec": {
      "name": "python3",
      "display_name": "Python 3"
    },
    "language_info": {
      "name": "python"
    }
  },
  "cells": [
    {
      "cell_type": "code",
      "execution_count": null,
      "metadata": {
        "id": "tKlfO7Ywhqqb"
      },
      "outputs": [],
      "source": [
        "hour=int(input(\"Hour:\"))\n",
        "minute=int(input(\"Minute:\"))\n",
        "\n",
        "newHour=0\n",
        "\n",
        "if hour>12:\n",
        "  newHour=hour-12\n",
        "else:\n",
        "  newHour=hour\n",
        "\n",
        "num={0:\"zero\", 1:\"one\", 2:\"two\", 3:\"three\", 4:\"four\", 5:\"five\", 6:\"six\", 7:\"seven\", 8:\"eight\", 9:\"nine\", 10:\"ten\", 11:\"eleven\", 12:\"twelve\"}\n",
        "minNum={11:\"eleven\",12:\"twelve\",13:\"thirteen\",14:\"fourteen\",15:\"fifteen\",16:\"sixteen\",17:\"seventeen\",18:\"eighteen\",19:\"nineteen\"}\n",
        "\n",
        "def pastCal(minute):\n",
        "  minValue=\"twenty\"\n",
        "  if minute<11:\n",
        "    return num[minute]\n",
        "  elif minute<20:\n",
        "    return minNum[minute]\n",
        "  elif minute==20:\n",
        "    return \"twenty\"\n",
        "  elif minute<30:\n",
        "    minValue=minValue+num[minute-20]\n",
        "    return minValue   \n",
        "\n",
        "if newHour>12 or newHour<0 or minute>59 or minute<0:\n",
        "  print(\"error\")\n",
        "else:\n",
        "  if minute==0:\n",
        "    print(num[newHour], \"o'clock\")\n",
        "  elif minute==15:\n",
        "    print(\"quarter past\", num[newHour])\n",
        "  elif minute==30:\n",
        "    print(\"half past\", num[newHour])\n",
        "  elif minute==45:\n",
        "    print(\"quarter to\", num[newHour+1])\n",
        "  elif minute<30:\n",
        "    print(pastCal(minute), \"minutes past\", num[newHour])\n",
        "  else:\n",
        "    lastMin=60-minute\n",
        "    print(pastCal(lastMin), \"minutes to\", num[newHour+1])"
      ]
    }
  ]
}