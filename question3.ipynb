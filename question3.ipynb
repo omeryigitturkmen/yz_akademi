{
  "nbformat": 4,
  "nbformat_minor": 0,
  "metadata": {
    "colab": {
      "name": "Untitled0.ipynb",
      "provenance": [],
      "collapsed_sections": []
    },
    "kernelspec": {
      "name": "python3",
      "display_name": "Python 3"
    },
    "language_info": {
      "name": "python"
    }
  },
  "cells": [
    {
      "cell_type": "code",
      "source": [
        "nValue=int(input(\"Value: \"))\n",
        "legosHeight=input(\"Height: \").split(\" \")\n",
        "\n",
        "height=[]\n",
        "ballEnergy=[]\n",
        "delta=[]\n",
        "\n",
        "for i in legosHeight:\n",
        "  a=int(i)\n",
        "  height.append(a)\n",
        "\n",
        "min=height[0]+1\n",
        "\n",
        "\n",
        "for i in range(0,nValue):\n",
        "  if i==0:\n",
        "    ballEnergy.append(min)\n",
        "    delta.append(min-height[0])\n",
        "  else:\n",
        "    if ballEnergy[i-1]==0:\n",
        "      print(\"error\")\n",
        "      min=min+1\n",
        "      continue\n",
        "    elif ballEnergy[i-1]<delta[i-1]:\n",
        "      newEnergy=ballEnergy[i-1]-(height[i-1]-ballEnergy[i-1])\n",
        "      ballEnergy.append(newEnergy)\n",
        "      delta.append(height[i]-newEnergy)\n",
        "      if ballEnergy[i]==0:\n",
        "        min=min+1\n",
        "        continue\n",
        "    elif ballEnergy[i-1]>delta[i-1]:\n",
        "      newEnergy=ballEnergy[i-1]+(ballEnergy[i-1]-height[i-1])\n",
        "      ballEnergy.append(newEnergy)\n",
        "      delta.append(newEnergy-height[i])\n",
        "      if ballEnergy[i]==0:\n",
        "        min=min+1\n",
        "        continue\n",
        "\n",
        "\n",
        "print(min)"
      ],
      "metadata": {
        "id": "vxRxDRGrHSCh"
      },
      "execution_count": null,
      "outputs": []
    }
  ]
}