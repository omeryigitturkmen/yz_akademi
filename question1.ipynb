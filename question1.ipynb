{
  "nbformat": 4,
  "nbformat_minor": 0,
  "metadata": {
    "colab": {
      "name": "question1.ipynb",
      "provenance": []
    },
    "kernelspec": {
      "name": "python3",
      "display_name": "Python 3"
    },
    "language_info": {
      "name": "python"
    }
  },
  "cells": [
    {
      "cell_type": "code",
      "execution_count": null,
      "metadata": {
        "id": "Fr9OOPvowBPr"
      },
      "outputs": [],
      "source": [
        "first=input(\"First values: \")\n",
        "second=input(\"Second values: \")\n",
        "\n",
        "firstStrList=first.split(\" \")\n",
        "secondStrList=second.split(\" \")\n",
        "\n",
        "firstNumList=[]\n",
        "secondNumList=[]\n",
        "\n",
        "for i in firstStrList:\n",
        "  if int(i)>=1 and int(i)<=100:\n",
        "    firstNumList.append(int(i))\n",
        "\n",
        "for j in secondStrList:\n",
        "  if int(j)>=1 and int(j)<=100:\n",
        "    secondNumList.append(int(j))\n",
        "\n",
        "if len(firstNumList)!=len(secondNumList):\n",
        "  print(\"error\")\n",
        "\n",
        "else:\n",
        "  stopRule=len(firstNumList)\n",
        "  stopValue=0\n",
        "  alice=0\n",
        "  bob=0\n",
        "    \n",
        "  while stopValue<stopRule:\n",
        "    if firstNumList[stopValue]>secondNumList[stopValue]:\n",
        "      alice=alice+1\n",
        "    if firstNumList[stopValue]<secondNumList[stopValue]:\n",
        "      bob=bob+1\n",
        "        \n",
        "    stopValue=stopValue+1\n",
        "  print(alice, bob)"
      ]
    }
  ]
}